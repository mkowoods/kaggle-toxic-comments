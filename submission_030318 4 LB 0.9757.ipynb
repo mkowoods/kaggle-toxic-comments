{
 "cells": [
  {
   "cell_type": "code",
   "execution_count": 1,
   "metadata": {},
   "outputs": [],
   "source": [
    "import numpy as np # linear algebra\n",
    "import pandas as pd # data processing, CSV file I/O (e.g. pd.read_csv)\n",
    "from subprocess import check_output\n",
    "import sklearn\n",
    "from sklearn.metrics import classification_report, confusion_matrix, roc_auc_score\n",
    "np.random.seed(42)"
   ]
  },
  {
   "cell_type": "code",
   "execution_count": 2,
   "metadata": {},
   "outputs": [],
   "source": [
    "data = pd.read_csv(\"./input/train.csv\")\n",
    "LABELS = ['toxic', 'severe_toxic', 'obscene','threat', 'insult', 'identity_hate']"
   ]
  },
  {
   "cell_type": "code",
   "execution_count": 3,
   "metadata": {},
   "outputs": [
    {
     "name": "stdout",
     "output_type": "stream",
     "text": [
      "(127572, 8)\n",
      "(31999, 8)\n"
     ]
    }
   ],
   "source": [
    "# Create train and Test Datasets\n",
    "msk = np.random.rand(len(data)) < 0.8\n",
    "train = data[msk]\n",
    "test = data[~msk]\n",
    "\n",
    "print(train.shape)\n",
    "print(test.shape)"
   ]
  },
  {
   "cell_type": "markdown",
   "metadata": {},
   "source": [
    "## Create Baseline ROC Score"
   ]
  },
  {
   "cell_type": "code",
   "execution_count": 4,
   "metadata": {},
   "outputs": [],
   "source": [
    "def get_y_vec(df, column_name):\n",
    "    return df[[column_name]].as_matrix().reshape((-1,))"
   ]
  },
  {
   "cell_type": "code",
   "execution_count": 9,
   "metadata": {},
   "outputs": [],
   "source": [
    "#naive bayes classifier\n",
    "#with C = 1.0 0.978368974747\n",
    "from sklearn.feature_extraction.text import CountVectorizer\n",
    "from sklearn.feature_extraction.text import TfidfTransformer, TfidfVectorizer\n",
    "from sklearn.naive_bayes import MultinomialNB\n",
    "from sklearn.linear_model import SGDClassifier, LogisticRegression\n",
    "from sklearn.neural_network import MLPClassifier\n",
    "from sklearn.model_selection import GridSearchCV\n",
    "\n",
    "from sklearn.pipeline import Pipeline\n",
    "text_clf = Pipeline([\n",
    "    ('tfidf', TfidfVectorizer(\n",
    "        min_df=4, \n",
    "        sublinear_tf=True,\n",
    "        analyzer='char',\n",
    "        ngram_range=(1,5), \n",
    "        stop_words='english', \n",
    "        lowercase=True, \n",
    "        binary=False\n",
    "    )),\n",
    "    #('clf', SGDClassifier(loss='log', n_jobs=-1, max_iter = 1000, tol = 1e-3)),\n",
    "    ('clf', LogisticRegression())\n",
    "])"
   ]
  },
  {
   "cell_type": "code",
   "execution_count": 11,
   "metadata": {},
   "outputs": [],
   "source": [
    "tfidf =  TfidfVectorizer(\n",
    "        min_df=4, \n",
    "        sublinear_tf=True,\n",
    "        analyzer='char',\n",
    "        ngram_range=(1,5), \n",
    "        stop_words='english', \n",
    "        lowercase=True, \n",
    "        binary=False\n",
    "    )\n",
    "lr = LogisticRegression()\n"
   ]
  },
  {
   "cell_type": "code",
   "execution_count": 12,
   "metadata": {},
   "outputs": [],
   "source": [
    "X_train = train[['comment_text']].as_matrix().reshape((-1,))\n",
    "tfidf.fit(X_train)"
   ]
  },
  {
   "cell_type": "code",
   "execution_count": 17,
   "metadata": {},
   "outputs": [],
   "source": [
    "X_test = test[['comment_text']].as_matrix().reshape((-1,))\n",
    "\n",
    "X_train_tfidf = tfidf.transform(X_train)\n",
    "X_test_tfidf = tfidf.transform(X_test)"
   ]
  },
  {
   "cell_type": "code",
   "execution_count": 24,
   "metadata": {},
   "outputs": [
    {
     "name": "stdout",
     "output_type": "stream",
     "text": [
      "########### toxic ####################\n",
      "\n",
      "             precision    recall  f1-score   support\n",
      "\n",
      "          0       0.96      1.00      0.98     28973\n",
      "          1       0.93      0.61      0.74      3026\n",
      "\n",
      "avg / total       0.96      0.96      0.96     31999\n",
      "\n",
      "[[28842   131]\n",
      " [ 1182  1844]]\n",
      "0.975875207469\n",
      "########################################\n",
      "\n",
      "########### severe_toxic ####################\n",
      "\n",
      "             precision    recall  f1-score   support\n",
      "\n",
      "          0       0.99      1.00      1.00     31682\n",
      "          1       0.62      0.22      0.33       317\n",
      "\n",
      "avg / total       0.99      0.99      0.99     31999\n",
      "\n",
      "[[31639    43]\n",
      " [  247    70]]\n",
      "0.99029760851\n",
      "########################################\n",
      "\n",
      "########### obscene ####################\n",
      "\n",
      "             precision    recall  f1-score   support\n",
      "\n",
      "          0       0.98      1.00      0.99     30312\n",
      "          1       0.93      0.63      0.75      1687\n",
      "\n",
      "avg / total       0.98      0.98      0.98     31999\n",
      "\n",
      "[[30236    76]\n",
      " [  629  1058]]\n",
      "0.988338215966\n",
      "########################################\n",
      "\n",
      "########### threat ####################\n",
      "\n",
      "             precision    recall  f1-score   support\n",
      "\n",
      "          0       1.00      1.00      1.00     31915\n",
      "          1       0.78      0.08      0.15        84\n",
      "\n",
      "avg / total       1.00      1.00      1.00     31999\n",
      "\n",
      "[[31913     2]\n",
      " [   77     7]]\n",
      "0.987461672747\n",
      "########################################\n",
      "\n",
      "########### insult ####################\n",
      "\n",
      "             precision    recall  f1-score   support\n",
      "\n",
      "          0       0.98      0.99      0.99     30456\n",
      "          1       0.83      0.52      0.64      1543\n",
      "\n",
      "avg / total       0.97      0.97      0.97     31999\n",
      "\n",
      "[[30293   163]\n",
      " [  746   797]]\n",
      "0.980856055998\n",
      "########################################\n",
      "\n",
      "########### identity_hate ####################\n",
      "\n",
      "             precision    recall  f1-score   support\n",
      "\n",
      "          0       0.99      1.00      1.00     31719\n",
      "          1       0.67      0.14      0.23       280\n",
      "\n",
      "avg / total       0.99      0.99      0.99     31999\n",
      "\n",
      "[[31700    19]\n",
      " [  242    38]]\n",
      "0.982157156819\n",
      "########################################\n",
      "\n",
      "0.984164319585\n"
     ]
    }
   ],
   "source": [
    "roc_scores = []\n",
    "for label in LABELS:\n",
    "    print(\"########### %s ####################\\n\"%(label))\n",
    "    \n",
    "    y_train = get_y_vec(df = train, column_name=label)    \n",
    "    y_test = get_y_vec(df = test, column_name=label)\n",
    "    \n",
    "    clf = lr.fit(X=X_train_tfidf, y=y_train)\n",
    "    y_ = clf.predict_proba(X_test_tfidf)\n",
    "    y_bin = y_[:,1] > 0.5\n",
    "    print(classification_report(y_test, y_bin))\n",
    "    print(confusion_matrix(y_test, y_bin))\n",
    "    roc = roc_auc_score(y_test, y_[:, 1])\n",
    "    print(roc)\n",
    "    roc_scores.append(roc)\n",
    "    print(\"########################################\\n\")\n",
    "print(sum(roc_scores)/len(roc_scores))"
   ]
  },
  {
   "cell_type": "code",
   "execution_count": 25,
   "metadata": {},
   "outputs": [],
   "source": [
    "submission = pd.read_csv(\"./input/test.csv\")"
   ]
  },
  {
   "cell_type": "code",
   "execution_count": 29,
   "metadata": {},
   "outputs": [],
   "source": [
    "tfidf2 =  TfidfVectorizer(\n",
    "        min_df=4, \n",
    "        sublinear_tf=True,\n",
    "        analyzer='char',\n",
    "        ngram_range=(1,5), \n",
    "        stop_words='english', \n",
    "        lowercase=True, \n",
    "        binary=False\n",
    "    )\n",
    "lr2 = LogisticRegression()"
   ]
  },
  {
   "cell_type": "code",
   "execution_count": 30,
   "metadata": {},
   "outputs": [],
   "source": [
    "X_train = data[['comment_text']].as_matrix().reshape((-1,))\n",
    "X_train_tfidf = tfidf2.fit_transform(X_train)"
   ]
  },
  {
   "cell_type": "code",
   "execution_count": 31,
   "metadata": {},
   "outputs": [],
   "source": [
    "X_submission = submission[['comment_text']].as_matrix().reshape((-1,))   \n",
    "X_submission_tfidf = tfidf2.transform(X_submission)"
   ]
  },
  {
   "cell_type": "code",
   "execution_count": 34,
   "metadata": {},
   "outputs": [
    {
     "name": "stdout",
     "output_type": "stream",
     "text": [
      "(159571, 611967) (153164, 611967)\n"
     ]
    }
   ],
   "source": [
    "print(X_train_tfidf.shape, X_submission_tfidf.shape)"
   ]
  },
  {
   "cell_type": "code",
   "execution_count": 35,
   "metadata": {},
   "outputs": [
    {
     "name": "stdout",
     "output_type": "stream",
     "text": [
      "########### toxic ####################\n",
      "\n",
      "########### severe_toxic ####################\n",
      "\n",
      "########### obscene ####################\n",
      "\n",
      "########### threat ####################\n",
      "\n",
      "########### insult ####################\n",
      "\n",
      "########### identity_hate ####################\n",
      "\n"
     ]
    }
   ],
   "source": [
    "#Create a model on full data set:\n",
    "results = {}\n",
    "for label in ['toxic', 'severe_toxic', 'obscene','threat', 'insult', 'identity_hate']:\n",
    "    print(\"########### %s ####################\\n\"%(label))\n",
    "    y_train = get_y_vec(df = data, column_name=label)\n",
    "    clf = lr2.fit(X=X_train_tfidf, y=y_train)\n",
    "    y_ = clf.predict_proba(X_submission_tfidf)\n",
    "    results[label] = y_[:,1]"
   ]
  },
  {
   "cell_type": "code",
   "execution_count": 36,
   "metadata": {},
   "outputs": [],
   "source": [
    "LABELS = ['toxic', 'severe_toxic', 'obscene','threat', 'insult', 'identity_hate']\n",
    "for  label in LABELS:\n",
    "    submission[label] = results[label]"
   ]
  },
  {
   "cell_type": "code",
   "execution_count": 37,
   "metadata": {},
   "outputs": [
    {
     "name": "stdout",
     "output_type": "stream",
     "text": [
      "                 id                                       comment_text  \\\n",
      "0  00001cee341fdb12  Yo bitch Ja Rule is more succesful then you'll...   \n",
      "1  0000247867823ef7  == From RfC == \\n\\n The title is fine as it is...   \n",
      "2  00013b17ad220c46  \" \\n\\n == Sources == \\n\\n * Zawe Ashton on Lap...   \n",
      "\n",
      "      toxic  severe_toxic   obscene    threat    insult  identity_hate  \n",
      "0  0.999281      0.180704  0.998248  0.022054  0.969670       0.194899  \n",
      "1  0.024184      0.005031  0.015103  0.001195  0.011767       0.005081  \n",
      "2  0.037859      0.008330  0.023222  0.001970  0.011978       0.004530  \n"
     ]
    },
    {
     "data": {
      "text/plain": [
       "array([ \"Yo bitch Ja Rule is more succesful then you'll ever be whats up with you and hating you sad mofuckas...i should bitch slap ur pethedic white faces and get you to kiss my ass you guys sicken me. Ja rule is about pride in da music man. dont diss that shit on him. and nothin is wrong bein like tupac he was a brother too...fuckin white boys get things right next time.,\",\n",
       "       '== From RfC == \\n\\n The title is fine as it is, IMO.',\n",
       "       '\" \\n\\n == Sources == \\n\\n * Zawe Ashton on Lapland —  /  \"'], dtype=object)"
      ]
     },
     "execution_count": 37,
     "metadata": {},
     "output_type": "execute_result"
    }
   ],
   "source": [
    "print(submission[0:3])\n",
    "submission[0:3]['comment_text'].as_matrix()"
   ]
  },
  {
   "cell_type": "code",
   "execution_count": 38,
   "metadata": {},
   "outputs": [
    {
     "name": "stdout",
     "output_type": "stream",
     "text": [
      "['id', 'toxic', 'severe_toxic', 'obscene', 'threat', 'insult', 'identity_hate']\n"
     ]
    },
    {
     "data": {
      "text/html": [
       "<div>\n",
       "<style scoped>\n",
       "    .dataframe tbody tr th:only-of-type {\n",
       "        vertical-align: middle;\n",
       "    }\n",
       "\n",
       "    .dataframe tbody tr th {\n",
       "        vertical-align: top;\n",
       "    }\n",
       "\n",
       "    .dataframe thead th {\n",
       "        text-align: right;\n",
       "    }\n",
       "</style>\n",
       "<table border=\"1\" class=\"dataframe\">\n",
       "  <thead>\n",
       "    <tr style=\"text-align: right;\">\n",
       "      <th></th>\n",
       "      <th>id</th>\n",
       "      <th>toxic</th>\n",
       "      <th>severe_toxic</th>\n",
       "      <th>obscene</th>\n",
       "      <th>threat</th>\n",
       "      <th>insult</th>\n",
       "      <th>identity_hate</th>\n",
       "    </tr>\n",
       "  </thead>\n",
       "  <tbody>\n",
       "    <tr>\n",
       "      <th>0</th>\n",
       "      <td>00001cee341fdb12</td>\n",
       "      <td>0.999281</td>\n",
       "      <td>0.180704</td>\n",
       "      <td>0.998248</td>\n",
       "      <td>0.022054</td>\n",
       "      <td>0.969670</td>\n",
       "      <td>0.194899</td>\n",
       "    </tr>\n",
       "    <tr>\n",
       "      <th>1</th>\n",
       "      <td>0000247867823ef7</td>\n",
       "      <td>0.024184</td>\n",
       "      <td>0.005031</td>\n",
       "      <td>0.015103</td>\n",
       "      <td>0.001195</td>\n",
       "      <td>0.011767</td>\n",
       "      <td>0.005081</td>\n",
       "    </tr>\n",
       "    <tr>\n",
       "      <th>2</th>\n",
       "      <td>00013b17ad220c46</td>\n",
       "      <td>0.037859</td>\n",
       "      <td>0.008330</td>\n",
       "      <td>0.023222</td>\n",
       "      <td>0.001970</td>\n",
       "      <td>0.011978</td>\n",
       "      <td>0.004530</td>\n",
       "    </tr>\n",
       "    <tr>\n",
       "      <th>3</th>\n",
       "      <td>00017563c3f7919a</td>\n",
       "      <td>0.005044</td>\n",
       "      <td>0.001354</td>\n",
       "      <td>0.003243</td>\n",
       "      <td>0.001022</td>\n",
       "      <td>0.003939</td>\n",
       "      <td>0.000857</td>\n",
       "    </tr>\n",
       "    <tr>\n",
       "      <th>4</th>\n",
       "      <td>00017695ad8997eb</td>\n",
       "      <td>0.029220</td>\n",
       "      <td>0.001600</td>\n",
       "      <td>0.009521</td>\n",
       "      <td>0.001065</td>\n",
       "      <td>0.010405</td>\n",
       "      <td>0.001771</td>\n",
       "    </tr>\n",
       "  </tbody>\n",
       "</table>\n",
       "</div>"
      ],
      "text/plain": [
       "                 id     toxic  severe_toxic   obscene    threat    insult  \\\n",
       "0  00001cee341fdb12  0.999281      0.180704  0.998248  0.022054  0.969670   \n",
       "1  0000247867823ef7  0.024184      0.005031  0.015103  0.001195  0.011767   \n",
       "2  00013b17ad220c46  0.037859      0.008330  0.023222  0.001970  0.011978   \n",
       "3  00017563c3f7919a  0.005044      0.001354  0.003243  0.001022  0.003939   \n",
       "4  00017695ad8997eb  0.029220      0.001600  0.009521  0.001065  0.010405   \n",
       "\n",
       "   identity_hate  \n",
       "0       0.194899  \n",
       "1       0.005081  \n",
       "2       0.004530  \n",
       "3       0.000857  \n",
       "4       0.001771  "
      ]
     },
     "execution_count": 38,
     "metadata": {},
     "output_type": "execute_result"
    }
   ],
   "source": [
    "headers = [\"id\"]+LABELS\n",
    "print(headers)\n",
    "submission[headers].head()"
   ]
  },
  {
   "cell_type": "code",
   "execution_count": 39,
   "metadata": {},
   "outputs": [],
   "source": [
    "import time\n",
    "submission[headers].to_csv(\"./input/submissions-%s.csv\"%str(int(time.time())), index=False)"
   ]
  },
  {
   "cell_type": "code",
   "execution_count": null,
   "metadata": {},
   "outputs": [],
   "source": []
  },
  {
   "cell_type": "code",
   "execution_count": null,
   "metadata": {},
   "outputs": [],
   "source": []
  }
 ],
 "metadata": {
  "kernelspec": {
   "display_name": "Python 3",
   "language": "python",
   "name": "python3"
  },
  "language_info": {
   "codemirror_mode": {
    "name": "ipython",
    "version": 3
   },
   "file_extension": ".py",
   "mimetype": "text/x-python",
   "name": "python",
   "nbconvert_exporter": "python",
   "pygments_lexer": "ipython3",
   "version": "3.6.2"
  }
 },
 "nbformat": 4,
 "nbformat_minor": 2
}

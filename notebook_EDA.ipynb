{
 "cells": [
  {
   "cell_type": "code",
   "execution_count": null,
   "metadata": {
    "_uuid": "d75f23c169645f7fe4f35a06b29a732ec76c25ec",
    "_cell_guid": "f01dbf01-6302-4a16-b854-c8eb6175b16b",
    "trusted": false,
    "collapsed": true
   },
   "outputs": [],
   "source": [
    "import numpy as np # linear algebra\n",
    "import pandas as pd # data processing, CSV file I/O (e.g. pd.read_csv)\n",
    "from subprocess import check_output\n",
    "print(check_output([\"ls\", \"../input\"]).decode(\"utf8\"))\n",
    "\n",
    "# Any results you write to the current directory are saved as output."
   ]
  },
  {
   "cell_type": "code",
   "execution_count": null,
   "metadata": {
    "_uuid": "089be3ff8414d7a150ff7cc68234837e02c2cc2c",
    "collapsed": true,
    "_cell_guid": "86f9fa73-ba7b-4a8b-a29c-7c75ddd83c60",
    "trusted": false
   },
   "outputs": [],
   "source": [
    "data = pd.read_csv(\"../input/train.csv\")"
   ]
  },
  {
   "cell_type": "markdown",
   "metadata": {
    "_uuid": "b4d81ecf5c6841678296b5bb7ab51cee0ca5d501",
    "_cell_guid": "4446cb7f-b687-4243-b56f-299c235da893"
   },
   "source": [
    "#### Head of Data"
   ]
  },
  {
   "cell_type": "code",
   "execution_count": null,
   "metadata": {
    "_uuid": "241f8d757d69ac80ad2fb6c21a05269dcba6878c",
    "_cell_guid": "36c754c3-a809-45bb-88a1-e0f27c03c20c",
    "trusted": false,
    "collapsed": true
   },
   "outputs": [],
   "source": [
    "data.head(25)"
   ]
  },
  {
   "cell_type": "markdown",
   "metadata": {
    "_uuid": "ebdb06ef652e9cc6749bf0fbf8b57e034185ad25",
    "_cell_guid": "b123c203-fedd-47a2-8018-9969c7984e42"
   },
   "source": [
    "### Class Distribution"
   ]
  },
  {
   "cell_type": "code",
   "execution_count": null,
   "metadata": {
    "_uuid": "6c420664725e28c3cdeb1a7426f88ddf615f665d",
    "_cell_guid": "43ae24fc-e326-48aa-80ab-78817321fec0",
    "trusted": false,
    "collapsed": true
   },
   "outputs": [],
   "source": [
    "data[['toxic', 'severe_toxic', 'obscene','threat', 'insult', 'identity_hate']].sum()"
   ]
  },
  {
   "cell_type": "code",
   "execution_count": null,
   "metadata": {
    "_uuid": "6e4305bbb25bfc9ef0423354710bd95881449cf1",
    "collapsed": true,
    "_cell_guid": "021a5de4-7348-43e7-9dbd-ad5656cc0a02",
    "trusted": false
   },
   "outputs": [],
   "source": [
    "import sklearn"
   ]
  },
  {
   "cell_type": "code",
   "execution_count": null,
   "metadata": {
    "_uuid": "e39928cc65801a8685d0fd34a3e3700706f93991",
    "collapsed": true,
    "_cell_guid": "c63db2f6-cf35-4b84-805c-1e61c791e426",
    "trusted": false
   },
   "outputs": [],
   "source": [
    "msk = np.random.rand(len(data)) < 0.8"
   ]
  },
  {
   "cell_type": "code",
   "execution_count": null,
   "metadata": {
    "_uuid": "099ef948a2dcef427b7d239fb60ba216039e4887",
    "collapsed": true,
    "_cell_guid": "331923d8-f2f1-48c8-87d4-9b439eb9410e",
    "trusted": false
   },
   "outputs": [],
   "source": [
    "train = data[msk]\n",
    "test = data[~msk]"
   ]
  },
  {
   "cell_type": "code",
   "execution_count": null,
   "metadata": {
    "_uuid": "c5c1270d3601e485b1b5f1143f561f5530ff37a3",
    "_cell_guid": "6e140dd0-56d8-49bf-b40c-7c7f28201398",
    "trusted": false,
    "collapsed": true
   },
   "outputs": [],
   "source": [
    "print(train.shape)\n",
    "print(test.shape)"
   ]
  },
  {
   "cell_type": "code",
   "execution_count": null,
   "metadata": {
    "_uuid": "e59df4d2a4bb090170e1a5252539b94e1fbeeefc",
    "_cell_guid": "c98bb8a4-7011-44a5-aa81-94fadc9b84ca",
    "trusted": false,
    "collapsed": true
   },
   "outputs": [],
   "source": [
    "train[['toxic', 'severe_toxic', 'obscene','threat', 'insult', 'identity_hate']].mean()"
   ]
  },
  {
   "cell_type": "code",
   "execution_count": null,
   "metadata": {
    "_uuid": "ddd4235e2a44dfb9c0ad869315f222f67d2f93ca",
    "collapsed": true,
    "_cell_guid": "1da27bc7-4b89-44c4-a228-fe5383e2c3fa",
    "trusted": false
   },
   "outputs": [],
   "source": [
    "from sklearn.feature_extraction.text import CountVectorizer"
   ]
  },
  {
   "cell_type": "code",
   "execution_count": null,
   "metadata": {
    "_uuid": "d16be43e1b483e1a5756871e66bf265f8849070b",
    "collapsed": true,
    "_cell_guid": "646a5afe-9ec6-44f2-989e-660b8a5326a1",
    "trusted": false
   },
   "outputs": [],
   "source": [
    "count_vect = CountVectorizer()"
   ]
  },
  {
   "cell_type": "code",
   "execution_count": null,
   "metadata": {
    "_uuid": "eff65e44a12336027b486579bb212fac22b8fee1",
    "collapsed": true,
    "_cell_guid": "56d13670-bc06-4a09-97b9-9cf60ebde573",
    "trusted": false
   },
   "outputs": [],
   "source": [
    "X_train = count_vect.fit_transform(train[['comment_text']].as_matrix().reshape((-1, )))"
   ]
  },
  {
   "cell_type": "code",
   "execution_count": null,
   "metadata": {
    "_uuid": "2309e54359812ae0a436c6c9c49544a5b9f8a333",
    "_cell_guid": "c7e3e148-5623-4b02-b30e-876b4f5e497a",
    "trusted": false,
    "collapsed": true
   },
   "outputs": [],
   "source": [
    "X_train.shape"
   ]
  },
  {
   "cell_type": "code",
   "execution_count": null,
   "metadata": {
    "_uuid": "e1579023d45205f9e1d3d020fd719079dd7e45c0",
    "collapsed": true,
    "_cell_guid": "e3e0ba83-7a5c-4284-a4bb-a3663ce91d8f",
    "trusted": false
   },
   "outputs": [],
   "source": [
    "from sklearn.feature_extraction.text import TfidfTransformer"
   ]
  },
  {
   "cell_type": "code",
   "execution_count": null,
   "metadata": {
    "_uuid": "bfb8ca84e3c2c7ee2e6f53f8981e2a93e62acbca",
    "collapsed": true,
    "_cell_guid": "17ad6799-1307-4d91-b422-721891f15b35",
    "trusted": false
   },
   "outputs": [],
   "source": [
    "tfidf_transformer = TfidfTransformer()\n",
    "X_train_tfidf = tfidf_transformer.fit_transform(X_train)"
   ]
  },
  {
   "cell_type": "code",
   "execution_count": null,
   "metadata": {
    "_uuid": "9436146b7c8eff90a286afcc41ecb2358f793151",
    "_cell_guid": "c3f3dc3a-bb24-4219-a851-d6a70e6356b4",
    "trusted": false,
    "collapsed": true
   },
   "outputs": [],
   "source": [
    "X_train_tfidf.shape"
   ]
  },
  {
   "cell_type": "code",
   "execution_count": null,
   "metadata": {
    "_uuid": "96f4c7f09af876bf74a1342890cee9530282f2ba",
    "collapsed": true,
    "_cell_guid": "2445ff89-ee09-43d6-84b4-dc116d3c47f7",
    "trusted": false
   },
   "outputs": [],
   "source": [
    "from sklearn.naive_bayes import MultinomialNB"
   ]
  },
  {
   "cell_type": "code",
   "execution_count": null,
   "metadata": {
    "_uuid": "4dc4616f39de579e3eb5a66711ddbe4e6841897a",
    "collapsed": true,
    "_cell_guid": "fe6002ba-f6c2-4b55-8b1e-280004159be6",
    "trusted": false
   },
   "outputs": [],
   "source": [
    "clf = MultinomialNB().fit(X_train_tfidf, train[['toxic']].as_matrix().reshape((-1,)))"
   ]
  },
  {
   "cell_type": "code",
   "execution_count": null,
   "metadata": {
    "_uuid": "c20b64933ac88e4e0343cb48bd1ce0c8873add1f",
    "_cell_guid": "62212ebd-881b-41f2-944a-e0c701adc48b",
    "trusted": false,
    "collapsed": true
   },
   "outputs": [],
   "source": [
    "X_test_tfidf = tfidf_transformer.transform(count_vect.transform(test[['comment_text']].as_matrix().reshape((-1,))))\n",
    "X_test_tfidf.shape"
   ]
  },
  {
   "cell_type": "code",
   "execution_count": null,
   "metadata": {
    "_uuid": "8fe065d42d12024caa1d5b0ec445005e2d8fad38",
    "collapsed": true,
    "_cell_guid": "d9bad95b-ee47-4f4f-8480-160aa1574c5f",
    "trusted": false
   },
   "outputs": [],
   "source": [
    "y_ = clf.predict(X_test_tfidf)\n",
    "y_prob = clf.predict_proba(X_test_tfidf)"
   ]
  },
  {
   "cell_type": "code",
   "execution_count": null,
   "metadata": {
    "_uuid": "fbcbb029590074ae11f5457a6a5a4ab9d711271c",
    "_cell_guid": "e4b8dc6c-cee1-42c2-b4ef-7165f8e2e04f",
    "trusted": false,
    "collapsed": true
   },
   "outputs": [],
   "source": [
    "y = test[['toxic']].as_matrix().reshape((-1,))\n",
    "(y_ == y).astype('float').mean()"
   ]
  },
  {
   "cell_type": "code",
   "execution_count": null,
   "metadata": {
    "_uuid": "e3b34e3fc36d84a4fefdc93de02feaa82cbf3d57",
    "collapsed": true,
    "_cell_guid": "76132412-b25f-4443-bc15-9e216bd845e8",
    "trusted": false
   },
   "outputs": [],
   "source": [
    "from sklearn.metrics import classification_report, confusion_matrix, roc_auc_score"
   ]
  },
  {
   "cell_type": "code",
   "execution_count": null,
   "metadata": {
    "_uuid": "6c49f3acb67e9d39f1fdd2929fc7f0082ee17d4f",
    "_cell_guid": "7887b942-b755-4f59-a0fd-385eac1c3d7e",
    "trusted": false,
    "collapsed": true
   },
   "outputs": [],
   "source": [
    "print (classification_report(y, y_))\n",
    "print(confusion_matrix(y, y_))\n",
    "print(roc_auc_score(y, y_))\n",
    "print(roc_auc_score(y, y_prob[:, 1]))"
   ]
  },
  {
   "cell_type": "code",
   "execution_count": null,
   "metadata": {
    "_uuid": "88a79462cb61cc40879ba1892fb268855804e6f4",
    "_cell_guid": "621d8e5a-fb9e-43b1-9ac7-2cbbab469679",
    "trusted": false,
    "collapsed": true
   },
   "outputs": [],
   "source": [
    "# Accuracy at predicting toxic language\n",
    "# Sampling bias obviously is skewing the results\n",
    "476/2552"
   ]
  },
  {
   "cell_type": "code",
   "execution_count": null,
   "metadata": {
    "_uuid": "06784e58f399aaac16a5e2367bfcf66a3797276f",
    "collapsed": true,
    "_cell_guid": "848710b3-3bc9-47b4-b229-113c6d707506",
    "trusted": false
   },
   "outputs": [],
   "source": [
    "# This is definitely hate speech\n",
    "#print(test[['comment_text']][(y_ == 0) & (y == 1)].as_matrix()[0][0])"
   ]
  },
  {
   "cell_type": "code",
   "execution_count": null,
   "metadata": {
    "_uuid": "112519f6623cf6fb6797018a0ac347c5d4c8579e",
    "_cell_guid": "defd4d37-5ec1-46aa-99e7-5cd0f08b1fbf",
    "trusted": false,
    "collapsed": true
   },
   "outputs": [],
   "source": [
    "# try rebuilding classifier with weighted classes\n",
    "y_train = train[['toxic']].as_matrix().reshape((-1,))\n",
    "pos_cases = (y_train == 1)\n",
    "num_pos_cases = pos_cases.sum()\n",
    "idx_desc = np.argsort(-y_train) #sort indices high to low so positive cases are at the front\n",
    "balance_samples = idx_desc[:2*num_pos_cases] #extract 2x the num pos cases so now 50/50 pos/neg\n",
    "print(y_train[balance_samples].mean()) #confirm probability\n",
    "y_train_bal = y_train[balance_samples]\n",
    "X_train_tfidf_bal = X_train_tfidf[balance_samples]\n",
    "print(y_train_bal.shape, X_train_tfidf_bal.shape)\n",
    "#neg_cases = (y_train == 0)[:(pos_cases.sum())]\n",
    "#clf = MultinomialNB(cl) \n",
    "#.fit(X_train_tfidf, y_train)"
   ]
  },
  {
   "cell_type": "code",
   "execution_count": null,
   "metadata": {
    "_uuid": "be32b9f5717158749be940ab6a20fa6ec92aa88b",
    "_cell_guid": "0e0bc672-a06a-417b-b7a3-9149ec7f3a17",
    "trusted": false,
    "collapsed": true
   },
   "outputs": [],
   "source": [
    "# Create classifier based on balanced classes\n",
    "clf = MultinomialNB().fit(X_train_tfidf_bal, y_train_bal)\n",
    "y_ = clf.predict(X_test_tfidf)\n",
    "y_prob = clf.predict_proba(X_test_tfidf)\n",
    "print (classification_report(y, y_))\n",
    "print(confusion_matrix(y, y_))\n",
    "print(roc_auc_score(y, y_prob[:, 1]))"
   ]
  },
  {
   "cell_type": "code",
   "execution_count": null,
   "metadata": {
    "_uuid": "54b901a11627f8e7720afdb58c2afad2d8be33c3",
    "collapsed": true,
    "_cell_guid": "ee690fcd-671d-450b-8162-c4ad8e3066a3",
    "trusted": false
   },
   "outputs": [],
   "source": [
    "from sklearn.decomposition import PCA, TruncatedSVD"
   ]
  },
  {
   "cell_type": "code",
   "execution_count": null,
   "metadata": {
    "_uuid": "f12eeaafebc1f7bb17f04e2ca4054522a7cac6c2",
    "_cell_guid": "b88d6d96-582b-455c-9725-692ae7046ec3",
    "trusted": false,
    "collapsed": true
   },
   "outputs": [],
   "source": [
    "svd = TruncatedSVD(n_components=100, random_state=42)\n",
    "svd.fit(X_train_tfidf)"
   ]
  },
  {
   "cell_type": "code",
   "execution_count": null,
   "metadata": {
    "_uuid": "b691beab4691e58741ecc8c99a2f1aee32142415",
    "collapsed": true,
    "_cell_guid": "2f046689-8393-4019-9220-c1a249ab533f",
    "trusted": false
   },
   "outputs": [],
   "source": [
    "X_train_tfidf_bal_svd = svd.transform(X_train_tfidf_bal)"
   ]
  },
  {
   "cell_type": "code",
   "execution_count": null,
   "metadata": {
    "_uuid": "629ee9405027345174b72623e6d835ed89fc075a",
    "_cell_guid": "7152a87d-7c3b-4c1f-825a-cada46e54a31",
    "trusted": false,
    "collapsed": true
   },
   "outputs": [],
   "source": [
    "print(X_train_tfidf_bal_svd)"
   ]
  },
  {
   "cell_type": "code",
   "execution_count": null,
   "metadata": {
    "_uuid": "0551e4b33b26bc6e577642747fd990d84fc6ff26",
    "collapsed": true,
    "_cell_guid": "96936c6d-1f02-45c4-baef-5b8607135e30",
    "trusted": false
   },
   "outputs": [],
   "source": [
    "from sklearn.svm import SVC"
   ]
  },
  {
   "cell_type": "code",
   "execution_count": null,
   "metadata": {
    "_uuid": "1a06939f6cfdefaed8ad346b4e731e5e9d7659f0",
    "collapsed": true,
    "_cell_guid": "b64ba9d1-dd4a-47c7-b25e-03c662493239",
    "trusted": false
   },
   "outputs": [],
   "source": [
    "clf_svc = SVC(probability = True).fit(X_train_tfidf_bal_svd, y_train_bal)\n"
   ]
  },
  {
   "cell_type": "code",
   "execution_count": null,
   "metadata": {
    "_uuid": "9a306256d6c476d617adb13ff5f5e92817a74295",
    "_cell_guid": "fe8a943a-d746-41cc-8c05-5a7d25f48388",
    "trusted": false,
    "collapsed": true
   },
   "outputs": [],
   "source": [
    "X_test_tfidf_svd = svd.transform(X_test_tfidf)\n",
    "y_ = clf_svc.predict(X_test_tfidf_svd)\n",
    "y_prob = clf_svc.predict_proba(X_test_tfidf_svd)\n",
    "\n",
    "print (classification_report(y, y_))\n",
    "print(confusion_matrix(y, y_))\n",
    "print(roc_auc_score(y, y_prob[:,1]))"
   ]
  },
  {
   "cell_type": "code",
   "execution_count": null,
   "metadata": {
    "_uuid": "a84b3db8b5071bb2f5a910a2787319ca3e7540b7",
    "collapsed": true,
    "_cell_guid": "056961b6-b794-461c-8b46-64f5cdeb2fb8",
    "trusted": false
   },
   "outputs": [],
   "source": [
    ""
   ]
  }
 ],
 "metadata": {
  "kernelspec": {
   "display_name": "Python 3",
   "language": "python",
   "name": "python3"
  },
  "language_info": {
   "codemirror_mode": {
    "name": "ipython",
    "version": 3
   },
   "pygments_lexer": "ipython3",
   "mimetype": "text/x-python",
   "file_extension": ".py",
   "nbconvert_exporter": "python",
   "name": "python",
   "version": "3.6.4"
  }
 },
 "nbformat": 4,
 "nbformat_minor": 1
}

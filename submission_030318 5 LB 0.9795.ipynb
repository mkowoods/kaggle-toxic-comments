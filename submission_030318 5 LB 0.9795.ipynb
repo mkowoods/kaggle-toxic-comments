{
 "cells": [
  {
   "cell_type": "code",
   "execution_count": 1,
   "metadata": {},
   "outputs": [],
   "source": [
    "import numpy as np # linear algebra\n",
    "import pandas as pd # data processing, CSV file I/O (e.g. pd.read_csv)\n",
    "from subprocess import check_output\n",
    "import sklearn\n",
    "from sklearn.metrics import classification_report, confusion_matrix, roc_auc_score\n",
    "np.random.seed(42)"
   ]
  },
  {
   "cell_type": "code",
   "execution_count": 2,
   "metadata": {},
   "outputs": [],
   "source": [
    "data = pd.read_csv(\"./input/train.csv\")\n",
    "LABELS = ['toxic', 'severe_toxic', 'obscene','threat', 'insult', 'identity_hate']"
   ]
  },
  {
   "cell_type": "code",
   "execution_count": 3,
   "metadata": {},
   "outputs": [
    {
     "name": "stdout",
     "output_type": "stream",
     "text": [
      "(127572, 8)\n",
      "(31999, 8)\n"
     ]
    }
   ],
   "source": [
    "# Create train and Test Datasets\n",
    "msk = np.random.rand(len(data)) < 0.8\n",
    "train = data[msk]\n",
    "test = data[~msk]\n",
    "\n",
    "print(train.shape)\n",
    "print(test.shape)"
   ]
  },
  {
   "cell_type": "markdown",
   "metadata": {},
   "source": [
    "## Create Baseline ROC Score"
   ]
  },
  {
   "cell_type": "code",
   "execution_count": 4,
   "metadata": {},
   "outputs": [],
   "source": [
    "def get_y_vec(df, column_name):\n",
    "    return df[[column_name]].as_matrix().reshape((-1,))"
   ]
  },
  {
   "cell_type": "code",
   "execution_count": 5,
   "metadata": {},
   "outputs": [],
   "source": [
    "#naive bayes classifier\n",
    "#with C = 1.0 0.978368974747\n",
    "from sklearn.feature_extraction.text import CountVectorizer\n",
    "from sklearn.feature_extraction.text import TfidfTransformer, TfidfVectorizer\n",
    "from sklearn.naive_bayes import MultinomialNB\n",
    "from sklearn.linear_model import SGDClassifier, LogisticRegression\n",
    "from sklearn.neural_network import MLPClassifier\n",
    "from sklearn.model_selection import GridSearchCV\n",
    "\n",
    "from sklearn.pipeline import Pipeline\n",
    "# text_clf = Pipeline([\n",
    "#     ('tfidf', TfidfVectorizer(\n",
    "#         min_df=0.01,\n",
    "#         max_df=0.99,\n",
    "#         sublinear_tf=True,\n",
    "#         analyzer='char',\n",
    "#         ngram_range=(1,5), \n",
    "#         stop_words='english', \n",
    "#         lowercase=True, \n",
    "#         binary=False\n",
    "#     )),\n",
    "#     #('clf', SGDClassifier(loss='log', n_jobs=-1, max_iter = 1000, tol = 1e-3)),\n",
    "#     ('clf', LogisticRegression())\n",
    "# ])"
   ]
  },
  {
   "cell_type": "code",
   "execution_count": 16,
   "metadata": {},
   "outputs": [],
   "source": [
    "char_tfidf =  TfidfVectorizer(\n",
    "        min_df=0.0001,\n",
    "        max_df=0.50,\n",
    "        sublinear_tf=True,\n",
    "        analyzer='char',\n",
    "        ngram_range=(1,5), \n",
    "        lowercase=True, \n",
    "        binary=False,\n",
    ")\n",
    "word_tfidf =  TfidfVectorizer(\n",
    "    min_df=0.0001,\n",
    "    max_df=0.50,\n",
    "    sublinear_tf=True,\n",
    "    ngram_range=(1,2), \n",
    "    stop_words='english', \n",
    "    lowercase=True, \n",
    "    binary=False\n",
    ")\n",
    "lr = LogisticRegression()\n"
   ]
  },
  {
   "cell_type": "code",
   "execution_count": 17,
   "metadata": {},
   "outputs": [],
   "source": [
    "from scipy.sparse import hstack"
   ]
  },
  {
   "cell_type": "code",
   "execution_count": 18,
   "metadata": {},
   "outputs": [
    {
     "name": "stdout",
     "output_type": "stream",
     "text": [
      "finished char\n"
     ]
    },
    {
     "ename": "ValueError",
     "evalue": "blocks must be 2-D",
     "traceback": [
      "\u001b[0;31m---------------------------------------------------------------------------\u001b[0m",
      "\u001b[0;31mValueError\u001b[0m                                Traceback (most recent call last)",
      "\u001b[0;32m<ipython-input-18-2e4bd6cd0893>\u001b[0m in \u001b[0;36m<module>\u001b[0;34m()\u001b[0m\n\u001b[1;32m      3\u001b[0m \u001b[0mprint\u001b[0m\u001b[0;34m(\u001b[0m\u001b[0;34m\"finished char\"\u001b[0m\u001b[0;34m)\u001b[0m\u001b[0;34m\u001b[0m\u001b[0m\n\u001b[1;32m      4\u001b[0m \u001b[0mX_train_word_tfidf\u001b[0m \u001b[0;34m=\u001b[0m \u001b[0mword_tfidf\u001b[0m\u001b[0;34m.\u001b[0m\u001b[0mfit_transform\u001b[0m\u001b[0;34m(\u001b[0m\u001b[0mX_train\u001b[0m\u001b[0;34m)\u001b[0m\u001b[0;34m\u001b[0m\u001b[0m\n\u001b[0;32m----> 5\u001b[0;31m \u001b[0mX_train_out\u001b[0m \u001b[0;34m=\u001b[0m  \u001b[0mhstack\u001b[0m\u001b[0;34m(\u001b[0m\u001b[0mX_train_char_tfidf\u001b[0m\u001b[0;34m,\u001b[0m\u001b[0mX_train_word_tfidf\u001b[0m\u001b[0;34m)\u001b[0m\u001b[0;34m\u001b[0m\u001b[0m\n\u001b[0m",
      "\u001b[0;32m~/miniconda2/envs/kaggle-dog-breed-comp/lib/python3.6/site-packages/scipy/sparse/construct.py\u001b[0m in \u001b[0;36mhstack\u001b[0;34m(blocks, format, dtype)\u001b[0m\n\u001b[1;32m    462\u001b[0m \u001b[0;34m\u001b[0m\u001b[0m\n\u001b[1;32m    463\u001b[0m     \"\"\"\n\u001b[0;32m--> 464\u001b[0;31m     \u001b[0;32mreturn\u001b[0m \u001b[0mbmat\u001b[0m\u001b[0;34m(\u001b[0m\u001b[0;34m[\u001b[0m\u001b[0mblocks\u001b[0m\u001b[0;34m]\u001b[0m\u001b[0;34m,\u001b[0m \u001b[0mformat\u001b[0m\u001b[0;34m=\u001b[0m\u001b[0mformat\u001b[0m\u001b[0;34m,\u001b[0m \u001b[0mdtype\u001b[0m\u001b[0;34m=\u001b[0m\u001b[0mdtype\u001b[0m\u001b[0;34m)\u001b[0m\u001b[0;34m\u001b[0m\u001b[0m\n\u001b[0m\u001b[1;32m    465\u001b[0m \u001b[0;34m\u001b[0m\u001b[0m\n\u001b[1;32m    466\u001b[0m \u001b[0;34m\u001b[0m\u001b[0m\n",
      "\u001b[0;32m~/miniconda2/envs/kaggle-dog-breed-comp/lib/python3.6/site-packages/scipy/sparse/construct.py\u001b[0m in \u001b[0;36mbmat\u001b[0;34m(blocks, format, dtype)\u001b[0m\n\u001b[1;32m    545\u001b[0m \u001b[0;34m\u001b[0m\u001b[0m\n\u001b[1;32m    546\u001b[0m     \u001b[0;32mif\u001b[0m \u001b[0mblocks\u001b[0m\u001b[0;34m.\u001b[0m\u001b[0mndim\u001b[0m \u001b[0;34m!=\u001b[0m \u001b[0;36m2\u001b[0m\u001b[0;34m:\u001b[0m\u001b[0;34m\u001b[0m\u001b[0m\n\u001b[0;32m--> 547\u001b[0;31m         \u001b[0;32mraise\u001b[0m \u001b[0mValueError\u001b[0m\u001b[0;34m(\u001b[0m\u001b[0;34m'blocks must be 2-D'\u001b[0m\u001b[0;34m)\u001b[0m\u001b[0;34m\u001b[0m\u001b[0m\n\u001b[0m\u001b[1;32m    548\u001b[0m \u001b[0;34m\u001b[0m\u001b[0m\n\u001b[1;32m    549\u001b[0m     \u001b[0mM\u001b[0m\u001b[0;34m,\u001b[0m\u001b[0mN\u001b[0m \u001b[0;34m=\u001b[0m \u001b[0mblocks\u001b[0m\u001b[0;34m.\u001b[0m\u001b[0mshape\u001b[0m\u001b[0;34m\u001b[0m\u001b[0m\n",
      "\u001b[0;31mValueError\u001b[0m: blocks must be 2-D"
     ],
     "output_type": "error"
    }
   ],
   "source": [
    "X_train = train[['comment_text']].as_matrix().reshape((-1,))\n",
    "X_train_char_tfidf = char_tfidf.fit_transform(X_train)\n",
    "print(\"finished char\")\n",
    "X_train_word_tfidf = word_tfidf.fit_transform(X_train)\n",
    "X_train_out =  hstack([X_train_char_tfidf,X_train_word_tfidf])"
   ]
  },
  {
   "cell_type": "code",
   "execution_count": 23,
   "metadata": {},
   "outputs": [],
   "source": [
    "X_train_out = hstack([X_train_char_tfidf, X_train_word_tfidf])"
   ]
  },
  {
   "cell_type": "code",
   "execution_count": 24,
   "metadata": {},
   "outputs": [
    {
     "data": {
      "text/plain": [
       "(127572, 288261)"
      ]
     },
     "execution_count": 24,
     "metadata": {},
     "output_type": "execute_result"
    }
   ],
   "source": [
    "X_train_out.shape"
   ]
  },
  {
   "cell_type": "code",
   "execution_count": 25,
   "metadata": {},
   "outputs": [
    {
     "data": {
      "text/plain": [
       "(31999, 288261)"
      ]
     },
     "execution_count": 25,
     "metadata": {},
     "output_type": "execute_result"
    }
   ],
   "source": [
    "X_test = test[['comment_text']].as_matrix().reshape((-1,))\n",
    "\n",
    "#X_train_tfidf = tfidf.transform(X_train)\n",
    "X_test_word_tfidf = word_tfidf.transform(X_test)\n",
    "X_test_char_tfidf = char_tfidf.transform(X_test)\n",
    "X_test_out = hstack([X_test_char_tfidf, X_test_word_tfidf])\n",
    "X_test_out.shape"
   ]
  },
  {
   "cell_type": "code",
   "execution_count": 26,
   "metadata": {},
   "outputs": [
    {
     "name": "stdout",
     "output_type": "stream",
     "text": [
      "########### toxic ####################\n",
      "\n",
      "             precision    recall  f1-score   support\n",
      "\n",
      "          0       0.97      0.99      0.98     28973\n",
      "          1       0.91      0.68      0.78      3026\n",
      "\n",
      "avg / total       0.96      0.96      0.96     31999\n",
      "\n",
      "[[28776   197]\n",
      " [  980  2046]]\n",
      "0.979954375098\n",
      "########################################\n",
      "\n",
      "########### severe_toxic ####################\n",
      "\n",
      "             precision    recall  f1-score   support\n",
      "\n",
      "          0       0.99      1.00      1.00     31682\n",
      "          1       0.61      0.28      0.39       317\n",
      "\n",
      "avg / total       0.99      0.99      0.99     31999\n",
      "\n",
      "[[31624    58]\n",
      " [  227    90]]\n",
      "0.989975898106\n",
      "########################################\n",
      "\n",
      "########### obscene ####################\n",
      "\n",
      "             precision    recall  f1-score   support\n",
      "\n",
      "          0       0.98      1.00      0.99     30312\n",
      "          1       0.91      0.68      0.78      1687\n",
      "\n",
      "avg / total       0.98      0.98      0.98     31999\n",
      "\n",
      "[[30204   108]\n",
      " [  539  1148]]\n",
      "0.991161237495\n",
      "########################################\n",
      "\n",
      "########### threat ####################\n",
      "\n",
      "             precision    recall  f1-score   support\n",
      "\n",
      "          0       1.00      1.00      1.00     31915\n",
      "          1       0.61      0.20      0.30        84\n",
      "\n",
      "avg / total       1.00      1.00      1.00     31999\n",
      "\n",
      "[[31904    11]\n",
      " [   67    17]]\n",
      "0.99069123341\n",
      "########################################\n",
      "\n",
      "########### insult ####################\n",
      "\n",
      "             precision    recall  f1-score   support\n",
      "\n",
      "          0       0.98      0.99      0.99     30456\n",
      "          1       0.82      0.57      0.67      1543\n",
      "\n",
      "avg / total       0.97      0.97      0.97     31999\n",
      "\n",
      "[[30258   198]\n",
      " [  663   880]]\n",
      "0.982721501188\n",
      "########################################\n",
      "\n",
      "########### identity_hate ####################\n",
      "\n",
      "             precision    recall  f1-score   support\n",
      "\n",
      "          0       0.99      1.00      1.00     31719\n",
      "          1       0.65      0.20      0.31       280\n",
      "\n",
      "avg / total       0.99      0.99      0.99     31999\n",
      "\n",
      "[[31689    30]\n",
      " [  224    56]]\n",
      "0.983866812591\n",
      "########################################\n",
      "\n",
      "0.986395176315\n"
     ]
    }
   ],
   "source": [
    "roc_scores = []\n",
    "for label in LABELS:\n",
    "    print(\"########### %s ####################\\n\"%(label))\n",
    "    \n",
    "    y_train = get_y_vec(df = train, column_name=label)    \n",
    "    y_test = get_y_vec(df = test, column_name=label)\n",
    "    \n",
    "    clf = lr.fit(X=X_train_out, y=y_train)\n",
    "    y_ = clf.predict_proba(X_test_out)\n",
    "    y_bin = y_[:,1] > 0.5\n",
    "    print(classification_report(y_test, y_bin))\n",
    "    print(confusion_matrix(y_test, y_bin))\n",
    "    roc = roc_auc_score(y_test, y_[:, 1])\n",
    "    print(roc)\n",
    "    roc_scores.append(roc)\n",
    "    print(\"########################################\\n\")\n",
    "print(sum(roc_scores)/len(roc_scores))"
   ]
  },
  {
   "cell_type": "code",
   "execution_count": 27,
   "metadata": {},
   "outputs": [],
   "source": [
    "submission = pd.read_csv(\"./input/test.csv\")"
   ]
  },
  {
   "cell_type": "code",
   "execution_count": 34,
   "metadata": {},
   "outputs": [
    {
     "name": "stdout",
     "output_type": "stream",
     "text": [
      "finished char\n",
      "finished word\n"
     ]
    },
    {
     "data": {
      "text/plain": [
       "(159571, 289060)"
      ]
     },
     "execution_count": 34,
     "metadata": {},
     "output_type": "execute_result"
    }
   ],
   "source": [
    "X_train = data[['comment_text']].as_matrix().reshape((-1,))\n",
    "X_train_char_tfidf = char_tfidf.fit_transform(X_train)\n",
    "print(\"finished char\")\n",
    "X_train_word_tfidf = word_tfidf.fit_transform(X_train)\n",
    "print(\"finished word\")\n",
    "X_train_out =  hstack([X_train_char_tfidf,X_train_word_tfidf])\n",
    "X_train_out.shape"
   ]
  },
  {
   "cell_type": "code",
   "execution_count": 35,
   "metadata": {},
   "outputs": [
    {
     "name": "stdout",
     "output_type": "stream",
     "text": [
      "finished char\n",
      "finished word\n"
     ]
    },
    {
     "data": {
      "text/plain": [
       "(153164, 289060)"
      ]
     },
     "execution_count": 35,
     "metadata": {},
     "output_type": "execute_result"
    }
   ],
   "source": [
    "X_submission = submission[['comment_text']].as_matrix().reshape((-1,))   \n",
    "X_submission_char_tfidf = char_tfidf.transform(X_submission)\n",
    "print(\"finished char\")\n",
    "X_submission_word_tfidf = word_tfidf.transform(X_submission)\n",
    "print(\"finished word\")\n",
    "X_submission_out =  hstack([X_submission_char_tfidf,X_submission_word_tfidf])\n",
    "X_submission_out.shape"
   ]
  },
  {
   "cell_type": "code",
   "execution_count": 37,
   "metadata": {},
   "outputs": [
    {
     "name": "stdout",
     "output_type": "stream",
     "text": [
      "########### toxic ####################\n",
      "\n",
      "########### severe_toxic ####################\n",
      "\n",
      "########### obscene ####################\n",
      "\n",
      "########### threat ####################\n",
      "\n",
      "########### insult ####################\n",
      "\n",
      "########### identity_hate ####################\n",
      "\n"
     ]
    }
   ],
   "source": [
    "#Create a model on full data set:\n",
    "results = {}\n",
    "for label in ['toxic', 'severe_toxic', 'obscene','threat', 'insult', 'identity_hate']:\n",
    "    print(\"########### %s ####################\\n\"%(label))\n",
    "    y_train = get_y_vec(df = data, column_name=label)\n",
    "    clf = lr.fit(X=X_train_out, y=y_train)\n",
    "    y_ = clf.predict_proba(X_submission_out)\n",
    "    results[label] = y_[:,1]"
   ]
  },
  {
   "cell_type": "code",
   "execution_count": 38,
   "metadata": {},
   "outputs": [],
   "source": [
    "LABELS = ['toxic', 'severe_toxic', 'obscene','threat', 'insult', 'identity_hate']\n",
    "for  label in LABELS:\n",
    "    submission[label] = results[label]"
   ]
  },
  {
   "cell_type": "code",
   "execution_count": 39,
   "metadata": {},
   "outputs": [
    {
     "name": "stdout",
     "output_type": "stream",
     "text": [
      "                 id                                       comment_text  \\\n",
      "0  00001cee341fdb12  Yo bitch Ja Rule is more succesful then you'll...   \n",
      "1  0000247867823ef7  == From RfC == \\n\\n The title is fine as it is...   \n",
      "2  00013b17ad220c46  \" \\n\\n == Sources == \\n\\n * Zawe Ashton on Lap...   \n",
      "\n",
      "      toxic  severe_toxic   obscene    threat    insult  identity_hate  \n",
      "0  0.999856      0.241858  0.999507  0.033102  0.978433       0.344077  \n",
      "1  0.008738      0.003096  0.004654  0.000889  0.006233       0.002726  \n",
      "2  0.020692      0.002995  0.012085  0.000682  0.006730       0.001924  \n"
     ]
    },
    {
     "data": {
      "text/plain": [
       "array([ \"Yo bitch Ja Rule is more succesful then you'll ever be whats up with you and hating you sad mofuckas...i should bitch slap ur pethedic white faces and get you to kiss my ass you guys sicken me. Ja rule is about pride in da music man. dont diss that shit on him. and nothin is wrong bein like tupac he was a brother too...fuckin white boys get things right next time.,\",\n",
       "       '== From RfC == \\n\\n The title is fine as it is, IMO.',\n",
       "       '\" \\n\\n == Sources == \\n\\n * Zawe Ashton on Lapland —  /  \"'], dtype=object)"
      ]
     },
     "execution_count": 39,
     "metadata": {},
     "output_type": "execute_result"
    }
   ],
   "source": [
    "print(submission[0:3])\n",
    "submission[0:3]['comment_text'].as_matrix()"
   ]
  },
  {
   "cell_type": "code",
   "execution_count": 40,
   "metadata": {},
   "outputs": [
    {
     "name": "stdout",
     "output_type": "stream",
     "text": [
      "['id', 'toxic', 'severe_toxic', 'obscene', 'threat', 'insult', 'identity_hate']\n"
     ]
    },
    {
     "data": {
      "text/html": [
       "<div>\n",
       "<style scoped>\n",
       "    .dataframe tbody tr th:only-of-type {\n",
       "        vertical-align: middle;\n",
       "    }\n",
       "\n",
       "    .dataframe tbody tr th {\n",
       "        vertical-align: top;\n",
       "    }\n",
       "\n",
       "    .dataframe thead th {\n",
       "        text-align: right;\n",
       "    }\n",
       "</style>\n",
       "<table border=\"1\" class=\"dataframe\">\n",
       "  <thead>\n",
       "    <tr style=\"text-align: right;\">\n",
       "      <th></th>\n",
       "      <th>id</th>\n",
       "      <th>toxic</th>\n",
       "      <th>severe_toxic</th>\n",
       "      <th>obscene</th>\n",
       "      <th>threat</th>\n",
       "      <th>insult</th>\n",
       "      <th>identity_hate</th>\n",
       "    </tr>\n",
       "  </thead>\n",
       "  <tbody>\n",
       "    <tr>\n",
       "      <th>0</th>\n",
       "      <td>00001cee341fdb12</td>\n",
       "      <td>0.999856</td>\n",
       "      <td>0.241858</td>\n",
       "      <td>0.999507</td>\n",
       "      <td>0.033102</td>\n",
       "      <td>0.978433</td>\n",
       "      <td>0.344077</td>\n",
       "    </tr>\n",
       "    <tr>\n",
       "      <th>1</th>\n",
       "      <td>0000247867823ef7</td>\n",
       "      <td>0.008738</td>\n",
       "      <td>0.003096</td>\n",
       "      <td>0.004654</td>\n",
       "      <td>0.000889</td>\n",
       "      <td>0.006233</td>\n",
       "      <td>0.002726</td>\n",
       "    </tr>\n",
       "    <tr>\n",
       "      <th>2</th>\n",
       "      <td>00013b17ad220c46</td>\n",
       "      <td>0.020692</td>\n",
       "      <td>0.002995</td>\n",
       "      <td>0.012085</td>\n",
       "      <td>0.000682</td>\n",
       "      <td>0.006730</td>\n",
       "      <td>0.001924</td>\n",
       "    </tr>\n",
       "    <tr>\n",
       "      <th>3</th>\n",
       "      <td>00017563c3f7919a</td>\n",
       "      <td>0.004155</td>\n",
       "      <td>0.001605</td>\n",
       "      <td>0.002402</td>\n",
       "      <td>0.000891</td>\n",
       "      <td>0.002894</td>\n",
       "      <td>0.000579</td>\n",
       "    </tr>\n",
       "    <tr>\n",
       "      <th>4</th>\n",
       "      <td>00017695ad8997eb</td>\n",
       "      <td>0.022370</td>\n",
       "      <td>0.001843</td>\n",
       "      <td>0.006253</td>\n",
       "      <td>0.001035</td>\n",
       "      <td>0.011270</td>\n",
       "      <td>0.001560</td>\n",
       "    </tr>\n",
       "  </tbody>\n",
       "</table>\n",
       "</div>"
      ],
      "text/plain": [
       "                 id     toxic  severe_toxic   obscene    threat    insult  \\\n",
       "0  00001cee341fdb12  0.999856      0.241858  0.999507  0.033102  0.978433   \n",
       "1  0000247867823ef7  0.008738      0.003096  0.004654  0.000889  0.006233   \n",
       "2  00013b17ad220c46  0.020692      0.002995  0.012085  0.000682  0.006730   \n",
       "3  00017563c3f7919a  0.004155      0.001605  0.002402  0.000891  0.002894   \n",
       "4  00017695ad8997eb  0.022370      0.001843  0.006253  0.001035  0.011270   \n",
       "\n",
       "   identity_hate  \n",
       "0       0.344077  \n",
       "1       0.002726  \n",
       "2       0.001924  \n",
       "3       0.000579  \n",
       "4       0.001560  "
      ]
     },
     "execution_count": 40,
     "metadata": {},
     "output_type": "execute_result"
    }
   ],
   "source": [
    "headers = [\"id\"]+LABELS\n",
    "print(headers)\n",
    "submission[headers].head()"
   ]
  },
  {
   "cell_type": "code",
   "execution_count": 41,
   "metadata": {},
   "outputs": [],
   "source": [
    "import time\n",
    "submission[headers].to_csv(\"./input/submissions-%s.csv\"%str(int(time.time())), index=False)"
   ]
  },
  {
   "cell_type": "code",
   "execution_count": null,
   "metadata": {},
   "outputs": [],
   "source": []
  },
  {
   "cell_type": "code",
   "execution_count": null,
   "metadata": {},
   "outputs": [],
   "source": []
  }
 ],
 "metadata": {
  "kernelspec": {
   "display_name": "Python 3",
   "language": "python",
   "name": "python3"
  },
  "language_info": {
   "codemirror_mode": {
    "name": "ipython",
    "version": 3
   },
   "file_extension": ".py",
   "mimetype": "text/x-python",
   "name": "python",
   "nbconvert_exporter": "python",
   "pygments_lexer": "ipython3",
   "version": "3.6.4"
  }
 },
 "nbformat": 4,
 "nbformat_minor": 2
}
